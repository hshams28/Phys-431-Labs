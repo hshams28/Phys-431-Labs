{
 "cells": [
  {
   "cell_type": "code",
   "execution_count": 1,
   "metadata": {},
   "outputs": [],
   "source": [
    "import numpy as np\n",
    "import matplotlib.pyplot as plt\n",
    "from uncertainties import ufloat\n",
    "from uncertainties.umath import *\n",
    "from uncertainties import unumpy as unp\n",
    "from scipy.optimize import curve_fit\n",
    "from scipy import stats"
   ]
  },
  {
   "cell_type": "markdown",
   "metadata": {},
   "source": [
    "### Note - Python uses the equation $ \\sigma_f^2 = \\sigma_x^2 \\Big( \\frac{\\partial f}{\\partial x} \\Big) + \\sigma_y^2 \\Big( \\frac{\\partial f}{\\partial y} \\Big) + \\sigma_z^2 \\Big( \\frac{\\partial f}{\\partial z} \\Big) + ...$ in the uncertainties package to propagate the uncertainty \n",
    "### u.float(x,y) is the uncertainties package method to include nominal value, x, and std_devs, y, into one number so that it may calculate uncertainty propagations using the above equation. "
   ]
  },
  {
   "cell_type": "markdown",
   "metadata": {},
   "source": [
    "### finding isomer shift: \n",
    "$$\\delta_i = (factor)*AverageChannel \\quad ; \\quad factor = \\frac{velocity}{channel} \\quad and \\quad AverageChannel=average\\ channel\\ from\\ center\\ peak$$\n",
    "#### AverageChannel is for when dealing with multiple peaks like in Sodium Nitroprusside, however in stainless steel we will use just the channels away from channel 500 "
   ]
  },
  {
   "cell_type": "markdown",
   "metadata": {},
   "source": [
    "### finding quadrupole spritting:\n",
    "$$\\delta_Q = (factor)*\\delta_{channel} \\quad ; \\quad where \\quad \\delta_{channel}=difference \\ in \\ channel \\ from \\ channel \\ 500$$"
   ]
  },
  {
   "cell_type": "markdown",
   "metadata": {},
   "source": [
    "### From the Write-up:\n",
    " $$Transducer Velocity = 0.295\\pm0.002 \\frac{mm/s}{mV} $$\n",
    "\n",
    "#### We know, by our set-up: \n",
    "$$1channel = 0.5ms $$\n",
    "$$0channel=MaxSpeed$$\n",
    "$$500channel = 0speed$$\n",
    "\n",
    "#### Goal is to find $\\large \\frac{velocity}{channel}$"
   ]
  },
  {
   "cell_type": "code",
   "execution_count": 3,
   "metadata": {},
   "outputs": [
    {
     "name": "stdout",
     "output_type": "stream",
     "text": [
      "transducer velocity = -7.32+/-0.13mm/s\n",
      "velocity/channel = -0.01463+/-0.00026mm/s\n"
     ]
    }
   ],
   "source": [
    "transducer_conversion_factor = ufloat(0.295,0.002) #(mm/(s*mV)\n",
    "#transducer_factor_unc = 0.002 #(mm/(s*mV)\n",
    "\n",
    "sweep_voltage = ufloat(49.6, 0.8) #(mV)\n",
    "#v_uncertainty = 0.8 #(mV)\n",
    "\n",
    "transducer_velocity = -sweep_voltage / 2 * transducer_conversion_factor \n",
    "print(\"transducer velocity = \"+str(transducer_velocity)+ \"mm/s\")\n",
    "\n",
    "vel_per_channel = transducer_velocity/500 \n",
    "print(\"velocity/channel = \"+str(vel_per_channel)+ \"mm/s\")"
   ]
  },
  {
   "cell_type": "markdown",
   "metadata": {},
   "source": [
    "# Enriched Iron $Fe^{57}$ - Magnetic splitting"
   ]
  },
  {
   "cell_type": "code",
   "execution_count": 30,
   "metadata": {},
   "outputs": [
    {
     "name": "stdout",
     "output_type": "stream",
     "text": [
      "Isomer shift for Enriched Iron,\n",
      " Delta_i = -0.057+/-0.007mm/s\n",
      "\n",
      "Difference between E(1/2,1/2) and E(1/2,-1/2),\n",
      " Delta_g = 4.04+/-0.07mm/s\n",
      "\n",
      "Difference between consecutive energies,\n",
      " Delta_e = 2.30+/-0.05mm/s\n",
      "\n",
      "Magnetic field at the site of the iron nucleus,\n",
      " B = 22.4+/-0.4T\n",
      "\n",
      "Magnetic moment of excited state at 14.41eV,\n",
      " mu_e/mu_g = 1.708+/-0.015\n"
     ]
    }
   ],
   "source": [
    "mu_g_over_mu_n = ufloat(0.0903,0) #given in write-up\n",
    "\n",
    "E1_peak = ufloat(130.91, 1.11) #(channel)\n",
    "E2_peak = ufloat(286.30, 1.11) #(channel)\n",
    "E3_peak = ufloat(443.63, 1.11) #(channel)\n",
    "E4_peak = ufloat(562.69, 1.11) #(channel)\n",
    "E5_peak = ufloat(720.61, 1.11) #(channel)\n",
    "E6_peak = ufloat(879.24, 1.11) #(channel)\n",
    "peak_channels = [E1_peak, E2_peak, E3_peak, E4_peak, E5_peak, E6_peak]\n",
    "\n",
    "E_values = [] #will be in the form [E1, E2, E3, E4, E5, E6]\n",
    "for i in range(len(peak_channels)):\n",
    "    E_values.append((peak_channels[i] - 500) * vel_per_channel)\n",
    "Fe_57_isomer = (np.sum(E_values)) / 6\n",
    "print(\"Isomer shift for Enriched Iron,\\n Delta_i = \" +str(Fe_57_isomer)+\"mm/s\")\n",
    "\n",
    "delta_g = E_values[1]-E_values[3] #delta_g=E_2-E_4=E_3-E_5 (ground state split energy difference)\n",
    "print(\"\\nDifference between E(1/2,1/2) and E(1/2,-1/2),\\n Delta_g = \"+str(delta_g)+\"mm/s\")\n",
    "\n",
    "delta_e =  E_values[1]-E_values[2]#delta_e=E1-E2=E2-E3=E3-E4=E4-E5=E5-E6 (energy difference between consecutive levels)\n",
    "print(\"\\nDifference between consecutive energies,\\n Delta_e = \"+str(delta_e)+\"mm/s\")\n",
    "\n",
    "B = delta_g/(2*mu_g_over_mu_n) #magnetic field as iron nucleus\n",
    "print(\"\\nMagnetic field at the site of the iron nucleus,\\n B = \"+str(B)+\"T\")\n",
    "\n",
    "mu_e_over_mu_g = (3 * delta_e)/delta_g \n",
    "print(\"\\nMagnetic moment of excited state at 14.41eV,\\n mu_e/mu_g = \"+str(mu_e_over_mu_g))"
   ]
  },
  {
   "cell_type": "markdown",
   "metadata": {},
   "source": [
    "# Stainless Steel - Isomer Shift"
   ]
  },
  {
   "cell_type": "code",
   "execution_count": 9,
   "metadata": {},
   "outputs": [
    {
     "name": "stdout",
     "output_type": "stream",
     "text": [
      "The Isomershift for stainless steel = -0.1902+/-0.006mm/s\n"
     ]
    }
   ],
   "source": [
    "channel_away = ufloat(13,0.34)\n",
    "stainless_isomer_shift = vel_per_channel*channel_away\n",
    "print(\"The Isomershift for stainless steel = \"+str(np.round(unp.nominal_values(stainless_isomer_shift),4))+\n",
    "      \"+/-\"+str(np.round(unp.std_devs(stainless_isomer_shift),4))+ \"mm/s\")"
   ]
  },
  {
   "cell_type": "markdown",
   "metadata": {},
   "source": [
    "# Sodium Nitroprusside - Quadrupole splitting"
   ]
  },
  {
   "cell_type": "code",
   "execution_count": 12,
   "metadata": {},
   "outputs": [
    {
     "name": "stdout",
     "output_type": "stream",
     "text": [
      "The Isomer shift for Sodium Nitroprusside = -0.293+/-0.009mm/s\n",
      "The Quadrupol shift for Sodium Nitroprusside = 1.756+/-0.034mm/s\n"
     ]
    }
   ],
   "source": [
    "left_channel = ufloat(-40,0.71)\n",
    "right_channel = ufloat(80,0.71)\n",
    "\n",
    "delta_channel = left_channel-right_channel\n",
    "\n",
    "average_channel = 1/2 * (left_channel+right_channel)\n",
    "\n",
    "sodium_isomer_shift = vel_per_channel*average_channel\n",
    "print(\"The Isomer shift for Sodium Nitroprusside = \"+str(np.round(unp.nominal_values(sodium_isomer_shift),3))+\n",
    "      \"+/-\"+str(np.round(unp.std_devs(sodium_isomer_shift),3))+ \"mm/s\")\n",
    "sodium_quad_split = vel_per_channel*delta_channel\n",
    "print(\"The Quadrupol shift for Sodium Nitroprusside = \"+str(np.round(unp.nominal_values(sodium_quad_split),3))+\n",
    "      \"+/-\"+str(np.round(unp.std_devs(sodium_quad_split),3))+ \"mm/s\")"
   ]
  }
 ],
 "metadata": {
  "kernelspec": {
   "display_name": "Python 3",
   "language": "python",
   "name": "python3"
  },
  "language_info": {
   "codemirror_mode": {
    "name": "ipython",
    "version": 3
   },
   "file_extension": ".py",
   "mimetype": "text/x-python",
   "name": "python",
   "nbconvert_exporter": "python",
   "pygments_lexer": "ipython3",
   "version": "3.6.4"
  }
 },
 "nbformat": 4,
 "nbformat_minor": 2
}
